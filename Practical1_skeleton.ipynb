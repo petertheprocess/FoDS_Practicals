{
  "cells": [
    {
      "cell_type": "markdown",
      "metadata": {
        "id": "id1w7kwZVF3I"
      },
      "source": [
        "# Practical 1 : Implementation of Linear Regression (Ridge, Lasso)\n",
        "\n",
        "This practical has two parts. The first part is to implement and train a linear regression model using the least squares method. We will implement the model and train it on the winequality dataset using the NumPy library. Learning curves will be plotted to determine if the model is overfitting or underfitting.\n",
        "\n",
        "In the second part, we will apply the basis expansion to the dataset and train linear regression models with regularization, i.e., Ridge and Lasso. These tasks do not need to be implemented from scratch -- We will use the functions from the scikit-learn library. During training, we use the validation data to determine the optimal hyperparameters. \n",
        "An optional task is to implement the hyperparameter selection using the k-fold cross-validation method. Five bonus points are awarded for this task. \n",
        "\n"
      ]
    },
    {
      "cell_type": "markdown",
      "metadata": {
        "id": "uu9YypJDK09V"
      },
      "source": [
        "We will use the following packages:"
      ]
    },
    {
      "cell_type": "code",
      "execution_count": 3,
      "metadata": {
        "id": "CTZv9o5i4gy3"
      },
      "outputs": [],
      "source": [
        "import numpy as np\n",
        "import matplotlib.pyplot as plt\n",
        "import _pickle as cp"
      ]
    },
    {
      "cell_type": "markdown",
      "metadata": {
        "id": "b1-ZQWqTVPno"
      },
      "source": [
        "## Dataset\n",
        "We will use the winequality dataset for this practical. The dataset is available here:\n",
        "https://archive.ics.uci.edu/ml/datasets/Wine+Quality. \n",
        "In order to make it easier to import the dataset, the dataset has been converted to the numpy array format and shuffled, so that we can start the practical directly. The converted dataset is available on the OLAT page.\n",
        "\n",
        "#### Attribute Information\n",
        "Input variables (based on physicochemical tests):\n",
        "1. fixed acidity\n",
        "2. volatile acidity\n",
        "3. citric acid\n",
        "4. residual sugar\n",
        "5. chlorides\n",
        "6. free sulfur dioxide\n",
        "7. total sulfur dioxide\n",
        "8. density\n",
        "9. pH\n",
        "10. sulphates\n",
        "11. alcohol\n",
        "\n",
        "Output variable (based on sensory data):\n",
        "\n",
        "12. quality (score between 0 and 10)\n",
        "\n"
      ]
    },
    {
      "cell_type": "markdown",
      "metadata": {
        "id": "TzDL9RQiVaPY"
      },
      "source": [
        "There are two files in the dataset, one for white wine data and one for red wine data. We focus on the white wine data, which is the larger dataset. The following code loads the data:"
      ]
    },
    {
      "cell_type": "code",
      "execution_count": 4,
      "metadata": {
        "colab": {
          "base_uri": "https://localhost:8080/"
        },
        "id": "NYkwbebUVO_i",
        "outputId": "95883ffe-4d18-4ecd-c685-3f3b419efac1"
      },
      "outputs": [
        {
          "name": "stdout",
          "output_type": "stream",
          "text": [
            "X is a matrix with the dimension (4898, 11). That is, 4898 data records and 11 features.\n",
            "y is a vector with 4898 values. They are the labels of the data records in X.\n"
          ]
        }
      ],
      "source": [
        "# load the white wine dataset\n",
        "# X is the feature matrix that stores the feature values of the data records\n",
        "# y is the label vector that stores the labels of the data records\n",
        "X, y = cp.load(open('winequality-white.pickle', 'rb'))\n",
        "\n",
        "# check the size of the data\n",
        "print(\"X is a matrix with the dimension {}. That is, {} data records and {} features.\".format(X.shape, X.shape[0], X.shape[1]))\n",
        "print(\"y is a vector with {} values. They are the labels of the data records in X.\".format(y.shape[0]))\n"
      ]
    },
    {
      "cell_type": "markdown",
      "metadata": {
        "id": "q2yKNR49Wkn8"
      },
      "source": [
        "## Understanding What We’re Predicting\n",
        "\n",
        "First, let's look at the labels. \n",
        "We make the bar chart below to show the distribution of labels in the dataset. \n",
        "The y-values are integers from 3 to 9. \n"
      ]
    },
    {
      "cell_type": "code",
      "execution_count": 5,
      "metadata": {
        "cellView": "both",
        "colab": {
          "base_uri": "https://localhost:8080/"
        },
        "id": "4L_JDK3dWrsR",
        "outputId": "cd9b8861-bb96-403a-9369-2ececc8e3581"
      },
      "outputs": [
        {
          "data": {
            "image/png": "[encoded data removed]",
            "text/plain": [
              "<Figure size 432x288 with 1 Axes>"
            ]
          },
          "metadata": {
            "needs_background": "light"
          },
          "output_type": "display_data"
        }
      ],
      "source": [
        "# the function takes the y-values in the training data as the input and makes the bar chart. \n",
        "def plot_bar_chart_score(y):\n",
        "    fix, ax = plt.subplots()\n",
        "    unique, counts = np.unique(y, return_counts=True)\n",
        "    plt.bar(unique, counts)\n",
        "    plt.xlabel('Score')\n",
        "    plt.ylabel('Number of wines')\n",
        "    plt.title('Distribution of scores of wines')\n",
        "    plt.show()\n",
        "\n",
        "plot_bar_chart_score(y)"
      ]
    },
    {
      "cell_type": "markdown",
      "metadata": {
        "id": "CGuNg0KbWN0z"
      },
      "source": [
        "Our goal is to train a model that can take wine records in X and predict the quality of the wines.\n",
        "We split the data into training data and test data. \n",
        "In practice, we should sample randomly 80% of the data as training data and the rest as the test data. \n",
        "Though, in this practical, let's all use the same split: the **first** 80% of the data for training and the remaining 20% for testing. This makes sure we can compare your results to ours."
      ]
    },
    {
      "cell_type": "markdown",
      "metadata": {
        "id": "Jt9vcanMK09s"
      },
      "source": [
        "### **Task 1** \n",
        "The first task is to write a function that can split the dataset into training and testing data according to the parameter `split_coeff`. When `split_coeff` is set to 0.8, it means the function sets the first 80% of the data as the training data and the remaining 20% as the testing data. "
      ]
    },
    {
      "cell_type": "code",
      "execution_count": 6,
      "metadata": {
        "id": "6ZqbBa8bWNYg"
      },
      "outputs": [],
      "source": [
        "# The function splits the dataset into training data and testing data.\n",
        "# The parameter split_coeff is a percentage value such that\n",
        "# the first split_coeff of the dataset become the training data\n",
        "# and the remaining data become the test data\n",
        "\n",
        "def split_data(X, y, split_coeff=0.8):\n",
        "    # The code below is just for compilation. \n",
        "    # You need to delete it and write your own code.\n",
        "    ###################################################\n",
        "    ##### YOUR CODE STARTS HERE #######################\n",
        "    ###################################################\n",
        "    data_size = y.shape[0]\n",
        "\n",
        "    train_index = np.random.choice(np.array(range(data_size)), \n",
        "                    size = int(split_coeff*data_size),\n",
        "                    replace = False)\n",
        "    test_index = np.delete(np.array(range(data_size)), train_index)\n",
        "\n",
        "    X_train = X[train_index]\n",
        "    y_train = y[train_index] \n",
        "    X_test = X[test_index]\n",
        "    y_test = y[test_index]\n",
        "    ###################################################\n",
        "    ##### YOUR CODE ENDS HERE #########################\n",
        "    ###################################################\n",
        "    \n",
        "    return X_train, y_train, X_test, y_test\n"
      ]
    },
    {
      "cell_type": "markdown",
      "metadata": {
        "id": "DqTA-zS9K09w"
      },
      "source": [
        "Your function should return the expected output as shown in the code block below. "
      ]
    },
    {
      "cell_type": "code",
      "execution_count": 7,
      "metadata": {
        "colab": {
          "base_uri": "https://localhost:8080/"
        },
        "id": "mdcrdtlzK09y",
        "outputId": "bf790924-2720-44e1-f26a-d90c9c1aa6f1"
      },
      "outputs": [
        {
          "name": "stdout",
          "output_type": "stream",
          "text": [
            "Shape of X_train: (3918, 11)\n",
            "Shape of y_train: (3918,)\n",
            "Shape of X_test: (980, 11)\n",
            "Shape of y_test: (980,)\n"
          ]
        }
      ],
      "source": [
        "X_train, y_train, X_test, y_test = split_data(X, y, 0.8) # split the data with split_coeff=0.8\n",
        "\n",
        "# check the size of the splitted dataset\n",
        "print(\"Shape of X_train:\", X_train.shape) # expected output (3918, 11)\n",
        "print(\"Shape of y_train:\", y_train.shape) # expected output (3918,)\n",
        "print(\"Shape of X_test:\", X_test.shape) # expected output (980, 11)\n",
        "print(\"Shape of y_test:\", y_test.shape) # expected output (980,)"
      ]
    },
    {
      "cell_type": "markdown",
      "metadata": {
        "id": "GxjlElni2FcH"
      },
      "source": [
        "### **Task 2** \n",
        "\n",
        "As a first step, we construct a trivial model that returns the mean of the y-values in the training data for any wine record in X. We use this trivial model as a baseline. The linear regression models we build later should perform better than this trivial model."
      ]
    },
    {
      "cell_type": "code",
      "execution_count": 8,
      "metadata": {
        "colab": {
          "base_uri": "https://localhost:8080/"
        },
        "id": "-V3xFYexX1lt",
        "outputId": "3a4f6e6f-3e8f-4394-eee5-90d2ebb6f22d"
      },
      "outputs": [
        {
          "name": "stdout",
          "output_type": "stream",
          "text": [
            "The average of the y-values in the training data is 5.869576314446146\n"
          ]
        }
      ],
      "source": [
        "#@title\n",
        "# Task 2: implement the trivial predictor\n",
        "# The function computes the average value of y on the training label values\n",
        "def compute_average(y_train):\n",
        "    # The code below is just for compilation. \n",
        "    # You need to delete it and write your own code.\n",
        "    ###################################################\n",
        "    ##### YOUR CODE STARTS HERE #######################\n",
        "    ###################################################\n",
        "    # Hint: return the mean of y_train\n",
        "    avg = np.mean(y_train)\n",
        "\n",
        "    return avg\n",
        "    ###################################################\n",
        "    ##### YOUR CODE ENDS HERE #########################\n",
        "    ###################################################\n",
        "\n",
        "y_train_avg = compute_average(y_train)\n",
        "print(\"The average of the y-values in the training data is {}\".format(y_train_avg)) \n",
        "\n",
        "# The trivial predictor returns the average value.\n",
        "def trivial_predictor(X_test, y_train_avg):\n",
        "  return y_train_avg\n"
      ]
    },
    {
      "cell_type": "markdown",
      "metadata": {
        "id": "x531Q_SxXV14"
      },
      "source": [
        "### **Task 3**\n",
        "We next evaluate the trivial predictor on the training data and test data. \n",
        "We use mean squared error (MSE) to measure the performance of the predictor.\n",
        "The task is to implement a function that reports the mean squared error of the given predictor on the given data. "
      ]
    },
    {
      "cell_type": "code",
      "execution_count": 9,
      "metadata": {
        "colab": {
          "base_uri": "https://localhost:8080/"
        },
        "id": "mV8l6Ci9YlgL",
        "outputId": "794c23d5-a5fa-44ef-97ae-8d452bf8e068"
      },
      "outputs": [
        {
          "name": "stdout",
          "output_type": "stream",
          "text": [
            "Trivial Predictor\n",
            "--------------------------------------------------------------------------------\n",
            "\n",
            "MSE (Training) = 0.7888\n",
            "MSE (Testing)  = 0.7663\n"
          ]
        }
      ],
      "source": [
        "# We next test our trivial predictor on the training data and test data. \n",
        "# Implement a function that can report the mean squared error \n",
        "# of a predictor on the given data\n",
        "# Input: data and predictor\n",
        "# Output: mean squared error of the predictor on the given data\n",
        "def test_predictor(X, y, predictor: callable=None):\n",
        "    # Apply the predictor to each row of the matrix X to get the predictions\n",
        "    y_predicted = np.apply_along_axis(predictor, 1, X)\n",
        "\n",
        "    # TODO: compute the mean squared error of y\n",
        "    # The code below is just for compilation. \n",
        "    # You need to delete it and write your own code.\n",
        "    ###################################################\n",
        "    ##### YOUR CODE STARTS HERE #######################\n",
        "    ###################################################\n",
        "    mse = ((y - y_predicted)**2).mean(axis=None)/2\n",
        "    ###################################################\n",
        "    ##### YOUR CODE ENDS HERE #########################\n",
        "    ###################################################\n",
        "    \n",
        "    return mse\n",
        "\n",
        "# use the function test_predictor to test the trivial predictor\n",
        "# we use the lambda function here to pass the function trivial predictor to the function test_predictor.\n",
        "mse_trivial_predictor_train = test_predictor(X_train, y_train, lambda x: trivial_predictor(x, y_train_avg))\n",
        "mse_trivial_predictor_test = test_predictor(X_test, y_test, lambda x: trivial_predictor(x, y_train_avg))\n",
        "\n",
        "# Report the result\n",
        "print('Trivial Predictor')\n",
        "print('--------------------------------------------------------------------------------\\n')\n",
        "print('MSE (Training) = %.4f' % mse_trivial_predictor_train)\n",
        "print('MSE (Testing)  = %.4f' % mse_trivial_predictor_test)"
      ]
    },
    {
      "cell_type": "markdown",
      "metadata": {
        "id": "geiyM1Nea0az"
      },
      "source": [
        "## Train the Linear Model Using the Least Squares Method\n",
        "\n",
        "Let's next train a linear regression model on the training data. \n",
        "We use the closed form solution of the least squares estimate to compute the parameters of the linear regression model. \n",
        "This model should perform better than the trivial predictor."
      ]
    },
    {
      "cell_type": "markdown",
      "metadata": {
        "id": "WSEwFGp_bqAI"
      },
      "source": [
        "### **Task 4**\n",
        "Before training the model, we need to standardize the data, i.e., transform the data so that every feature has mean 0 and variance 1. \n",
        "\n",
        "https://en.wikipedia.org/wiki/Standard_score\n",
        "\n",
        "We first standardize the training data, and then apply the same transformation to the test data. That is, standardize the test data using the means and the standard deviations of the training data. "
      ]
    },
    {
      "cell_type": "code",
      "execution_count": 10,
      "metadata": {
        "colab": {
          "base_uri": "https://localhost:8080/"
        },
        "id": "trjwkcgybhDH",
        "outputId": "94508f7d-9a71-4941-d8d6-ecffaede3f4d"
      },
      "outputs": [
        {
          "name": "stdout",
          "output_type": "stream",
          "text": [
            "X_train_std: (3918, 11)\n",
            "Mean: [6.86026034e+00 2.79099030e-01 3.35329250e-01 6.40759316e+00\n",
            " 4.58402246e-02 3.54687340e+01 1.38722180e+02 9.94047679e-01\n",
            " 3.18918070e+00 4.90490046e-01 1.05064157e+01]\n",
            "Standard deviation: [8.47847699e-01 1.01632627e-01 1.20098782e-01 5.04324931e+00\n",
            " 2.18868848e-02 1.72233764e+01 4.29836794e+01 2.95317093e-03\n",
            " 1.51950623e-01 1.13791292e-01 1.23753093e+00]\n"
          ]
        }
      ],
      "source": [
        "# The task is to implement a function that can standardize the data and returns the mean and std of the data.\n",
        "# Input: training data\n",
        "# Output: standardize training data, standard deviations and means\n",
        "def standardize_data(X):\n",
        "    # TODO: compute the means and standard deviations of the data, and standardize the data\n",
        "    # The code below is just for compilation. \n",
        "    # You need to replace it by your own code.\n",
        "    ###################################################\n",
        "    ##### YOUR CODE STARTS HERE #######################\n",
        "    ###################################################\n",
        "    mean = np.mean(X,axis=0)\n",
        "    std = np.std(X,axis=0)\n",
        "    X_std = (X-mean)/std\n",
        "    ###################################################\n",
        "    ##### YOUR CODE ENDS HERE #########################\n",
        "    ###################################################\n",
        "    \n",
        "    return X_std, mean, std\n",
        "\n",
        "# Standardize the training data and store the means and the stds \n",
        "X_train_std, X_train_mean, X_train_std_div = standardize_data(X_train)\n",
        "print(\"X_train_std:\", X_train_std.shape)\n",
        "print(\"Mean:\", X_train_mean)\n",
        "print(\"Standard deviation:\", X_train_std_div)"
      ]
    },
    {
      "cell_type": "code",
      "execution_count": 29,
      "metadata": {
        "colab": {
          "base_uri": "https://localhost:8080/"
        },
        "id": "RjzbA5JpM759",
        "outputId": "fd4221cf-58c7-4ba8-93b2-a1a7dc711f77"
      },
      "outputs": [
        {
          "name": "stdout",
          "output_type": "stream",
          "text": [
            "(980, 11)\n"
          ]
        }
      ],
      "source": [
        "# TODO: Standardize the test data using the means and standrad deviations of the training data\n",
        "###################################################\n",
        "##### YOUR CODE STARTS HERE #######################\n",
        "###################################################\n",
        "X_test_std = standardize_data(X_test)[0]\n",
        "print(X_test_std.shape)\n",
        "###################################################\n",
        "##### YOUR CODE ENDS HERE #########################\n",
        "###################################################"
      ]
    },
    {
      "cell_type": "markdown",
      "metadata": {
        "id": "vT4_Sl42bxmD"
      },
      "source": [
        "### **Task 5**\n",
        "Let's now train the linear model using the least-squares method. \n",
        "We need to add the bias term to the matrix X. "
      ]
    },
    {
      "cell_type": "code",
      "execution_count": 30,
      "metadata": {
        "colab": {
          "base_uri": "https://localhost:8080/"
        },
        "id": "A4JtLr6pdJV7",
        "outputId": "8248c231-76f3-412d-d6db-4cb49879c07c"
      },
      "outputs": [
        {
          "name": "stdout",
          "output_type": "stream",
          "text": [
            "w: (12,)\n"
          ]
        }
      ],
      "source": [
        "# The task is to implement the function that adds a column of ones to the first column of X\n",
        "def expand_with_ones(X):\n",
        "    # TODO: add a column of ones to the front of the input matrix\n",
        "    # The code below is just for compilation. \n",
        "    # You need to replace it by your own code.\n",
        "    ###################################################\n",
        "    ##### YOUR CODE STARTS HERE #######################\n",
        "    ###################################################\n",
        "    dim = X.shape[0]\n",
        "    X_out = np.concatenate((np.ones([dim,1]),X), axis=1)\n",
        "    return X_out\n",
        "    ###################################################\n",
        "    ##### YOUR CODE ENDS HERE #########################\n",
        "    ###################################################\n",
        "\n",
        "# Train the linear model using the least-squares method\n",
        "# The task is to implement the function that computes the parameters\n",
        "def least_squares_compute_parameters(X_input, y):\n",
        "    # add the bias column to the data\n",
        "    X = expand_with_ones(X_input) # Q: why we need expand the X?\n",
        "                    ## A: y = w0 + w1*x0 + ... + w11*x10, the expanded ones\n",
        "                    ## is used to calculate the bias parameter:w0.\n",
        "    # print(X.shape)\n",
        "    # TODO: compute the parameters based on the expanded X and y using the least-squares method\n",
        "    # The code below is just for compilation. \n",
        "    # You need to replace it by your own code.\n",
        "    ###################################################\n",
        "    ##### YOUR CODE STARTS HERE #######################\n",
        "    ###################################################\n",
        "    w = np.linalg.inv(X.T@X)@X.T@y # a@b -means- matmul(a,b)\n",
        "    return w\n",
        "    ##################################################\n",
        "    ##### YOUR CODE ENDS HERE #########################\n",
        "    ###################################################\n",
        "\n",
        "# Apply the function to train the linear model\n",
        "w = least_squares_compute_parameters(X_train_std, y_train) \n",
        "print(\"w:\", w.shape)"
      ]
    },
    {
      "cell_type": "markdown",
      "metadata": {
        "id": "lasj_1PpeZib"
      },
      "source": [
        "After computing the parameters,\n",
        "we can build the linear model predictor.\n",
        "The predictor takes as input the computed parameters and the data, and predicts the labels for the input data."
      ]
    },
    {
      "cell_type": "code",
      "execution_count": 31,
      "metadata": {
        "id": "Lb-hNagxc3Wj"
      },
      "outputs": [],
      "source": [
        "# Implement the linear model predictor\n",
        "# Input: test data and parameters\n",
        "# Output: predicted values\n",
        "def linear_model_predictor(X, w):\n",
        "    # TODO: predict the labels for the input data\n",
        "    # The code below is just for compilation. \n",
        "    # You need to replace it by your own code.\n",
        "    ###################################################\n",
        "    ##### YOUR CODE STARTS HERE #######################\n",
        "    ###################################################\n",
        "    # X_expand = expand_with_ones(X) \n",
        "    # in [32], the X_test_std has been expanded, so don't epand twice!\n",
        "    y_predict = X @ w\n",
        "    return y_predict\n",
        "    ###################################################\n",
        "    ##### YOUR CODE ENDS HERE #########################\n",
        "    ###################################################\n"
      ]
    },
    {
      "cell_type": "markdown",
      "metadata": {
        "id": "cFOYpwbufz7J"
      },
      "source": [
        "Evaluate our linear regression model predictor on the test data. "
      ]
    },
    {
      "cell_type": "code",
      "execution_count": 32,
      "metadata": {
        "colab": {
          "base_uri": "https://localhost:8080/"
        },
        "id": "LuHHmn2RB55j",
        "outputId": "a5229d8d-afb6-44f6-da8c-1f9c164e6849"
      },
      "outputs": [
        {
          "name": "stdout",
          "output_type": "stream",
          "text": [
            "Mean squared error is 33.69146300569306\n"
          ]
        }
      ],
      "source": [
        "# use the function test_predictor to evaluate the linear model predictor\n",
        "mse_linear_model_predictor = test_predictor(expand_with_ones(X_test_std), y_test, lambda x: linear_model_predictor(x, w))\n",
        "print(\"Mean squared error is {}\".format(mse_linear_model_predictor))"
      ]
    },
    {
      "cell_type": "markdown",
      "metadata": {
        "id": "zqj4HKAihF7Q"
      },
      "source": [
        "## Learning Curves\n",
        "\n",
        "Let us check if the linear model is overfitting or underfitting. Since the dataset is somewhat large and there are only 11 features, the model shouldn't be overfitting. \n",
        "To check it, we use the learning curves: we plot how the performance of the model changes when it is trained with increasingly more data. "
      ]
    },
    {
      "cell_type": "markdown",
      "metadata": {
        "id": "MNf11kurCgKF"
      },
      "source": [
        "### **Task 6** \n",
        "\n",
        "Let's first implement a function that comprises what we have implemented above. \n",
        "The function takes as inputs the data and the split coefficient, and then\n",
        "1. standardizes the data,\n",
        "2. trains the linear model (compute the parameters), and\n",
        "3. reports the MSE of the linear model predictor on both the training and the test data. "
      ]
    },
    {
      "cell_type": "code",
      "execution_count": 33,
      "metadata": {
        "colab": {
          "base_uri": "https://localhost:8080/"
        },
        "id": "UcGRQBrEb106",
        "outputId": "310469eb-eb01-4a58-8c3d-87ea97e20b1a"
      },
      "outputs": [
        {
          "name": "stdout",
          "output_type": "stream",
          "text": [
            "Linear Model\n",
            "-----------------------\n",
            "\n",
            "MSE (Training) = 0.5539\n",
            "MSE (Testing)  = 33.6915\n"
          ]
        }
      ],
      "source": [
        "# Input: training data and test data\n",
        "# Output: mse of the linear model predictor on both the training and test data\n",
        "def train_and_test(X_train, y_train, X_test, y_test):\n",
        "    # TODO: implement the function \n",
        "    # The code below is just for compilation. \n",
        "    # You need to replace it by your own code.\n",
        "    ###################################################\n",
        "    ##### YOUR CODE STARTS HERE #######################\n",
        "    ###################################################\n",
        "    # Hints: use the functions you have implemented\n",
        "    ## step1: prepard the data\n",
        "    X_train_std = standardize_data(X_train)[0]\n",
        "    X_test_std = standardize_data(X_test)[0]\n",
        "\n",
        "    ## step2: train the model and get the parameters\n",
        "    w = least_squares_compute_parameters(X_train_std, y_train)\n",
        "\n",
        "    ## step3: evaluate the result\n",
        "    mse_train = test_predictor(expand_with_ones(X_train_std), y_train, lambda x: linear_model_predictor(x, w))\n",
        "    mse_test = test_predictor(expand_with_ones(X_test_std), y_test, lambda x: linear_model_predictor(x, w))\n",
        "    return mse_train, mse_test\n",
        "    ###################################################\n",
        "    ##### YOUR CODE ENDS HERE #########################\n",
        "    ###################################################\n",
        "\n",
        "mse_train, mse_test = train_and_test(X_train, y_train, X_test, y_test)\n",
        "print('Linear Model')\n",
        "print('-----------------------\\n')\n",
        "print('MSE (Training) = %.4f' % mse_train)\n",
        "print('MSE (Testing)  = %.4f' % mse_test)\n"
      ]
    },
    {
      "cell_type": "markdown",
      "metadata": {
        "id": "NTJw_BrzhRwi"
      },
      "source": [
        "### **Task 7**\n",
        "\n",
        "We are now ready to plot the learning curves. \n",
        "\n",
        "We train a list of models on the increasingly more training data ([20, 40, ..., 600] data records).\n",
        "For each of such model, we compute the MSEs of the model on both the training data and the test data, and store the MSEs in the lists `mse_train_v` and `mse_test`, respectively. \n",
        "The code provided below will then plot the learning curves.\n",
        "\n",
        "Your plot should show the two curves (roughly) meet at round 150 training data records."
      ]
    },
    {
      "cell_type": "code",
      "execution_count": 34,
      "metadata": {
        "colab": {
          "base_uri": "https://localhost:8080/",
          "height": 279
        },
        "id": "jDsdh4T3hcIU",
        "outputId": "ae6b3ea0-0469-46b5-c5bc-132f35f7ea6a"
      },
      "outputs": [
        {
          "data": {
            "image/png": "[encoded data removed]",
            "text/plain": [
              "<Figure size 432x288 with 1 Axes>"
            ]
          },
          "metadata": {
            "needs_background": "light"
          },
          "output_type": "display_data"
        }
      ],
      "source": [
        "mse_train_v = []\n",
        "mse_test_v = []\n",
        "\n",
        "TRAINING_SIZE_MAX = 601\n",
        "TRAINING_SIZE_MIN = 20\n",
        "\n",
        "# compute the MSE over data with sizes from TRAINING_SIZE_MIN to TRAINING_SIZE_MAX with increasing step 20\n",
        "for train_size in range(TRAINING_SIZE_MIN, TRAINING_SIZE_MAX, 20):\n",
        "    # TODO: \n",
        "    #   1. use the first train_size data records from the X_train and y_train as the training data\n",
        "    #   2. train and compute the MSE on both training and test data using the train_and_test function\n",
        "    #   3. add the computed MSE to the lists mse_train_v and mse_test_v\n",
        "    # The code below is just for compilation. \n",
        "    # You need to replace it by your own code.\n",
        "    ###################################################\n",
        "    ##### YOUR CODE STARTS HERE #######################\n",
        "    ###################################################\n",
        "    mse_train, mse_test = train_and_test(X_train[:train_size],y_train[:train_size],X_test,y_test)\n",
        "    \n",
        "    mse_train_v.append(mse_train)\n",
        "    mse_test_v.append(mse_test)\n",
        "    ###################################################\n",
        "    ##### YOUR CODE ENDS HERE #########################\n",
        "    ###################################################\n",
        "    \n",
        "\n",
        "# The below code generates the learning curves plot\n",
        "plt.plot(np.arange(TRAINING_SIZE_MIN, TRAINING_SIZE_MAX, 20), mse_train_v, 'r--', label=\"Training Error\")\n",
        "plt.plot(np.arange(TRAINING_SIZE_MIN, TRAINING_SIZE_MAX, 20), mse_test_v, 'b-', label=\"Test Error\")\n",
        "plt.legend(loc=\"upper right\")\n",
        "plt.xlabel('Dataset Size')\n",
        "plt.ylabel('Mean Squared Error')\n",
        "plt.show()"
      ]
    },
    {
      "cell_type": "markdown",
      "metadata": {
        "id": "djpsaTu_kK3T"
      },
      "source": [
        "\n",
        "\n",
        "```\n",
        "# 此内容为代码格式\n",
        "```\n",
        "\n",
        "## Polynomial Basis Expansion and Regularisation\n",
        "\n",
        "In this part, we will improve the linear regression model by basis expansion and regularization: \n",
        "1. apply the degree 2 basis expansion to the data, \n",
        "2. build the Ridge and Lasso models and\n",
        "3. perform hyperparameter optimization using the validation data. \n",
        "\n",
        "For the hyperparameter optimization, you should set the last 20% of the training data for the purpose of validation and try lambda values in the range [10^-4, 10^-3, 10^-2, 10^-1, 1, 10, 100]. \n",
        "\n",
        "We will use the scikit-learn library. We have imported the necessary functions for you. You can import other scikit-learn functions if you think they are useful. The documentation is available here: http://scikit-learn.org/stable/modules/classes.html"
      ]
    },
    {
      "cell_type": "code",
      "execution_count": 35,
      "metadata": {
        "id": "9TM0nkNbkhfM"
      },
      "outputs": [],
      "source": [
        "# import the preprocessing libs for standarization and basis expansion\n",
        "from sklearn.preprocessing import StandardScaler, PolynomialFeatures \n",
        "\n",
        "# Ridge and Lasso linear model\n",
        "from sklearn.linear_model import Ridge, Lasso "
      ]
    },
    {
      "cell_type": "markdown",
      "metadata": {
        "id": "pCwBPuOXlRF7"
      },
      "source": [
        "### **Task 8**\n",
        "Let's implement the function for expanding the basis of the dataset. \n",
        "\n",
        "Hints: use `PolynomialFeatures`"
      ]
    },
    {
      "cell_type": "code",
      "execution_count": 36,
      "metadata": {
        "id": "50azFolql1qA"
      },
      "outputs": [],
      "source": [
        "def expand_basis(X, degree):\n",
        "    # TODO: expand the basis of X for the input degree\n",
        "    # The code below is just for compilation. \n",
        "    # You need to replace it by your own code.\n",
        "    ###################################################\n",
        "    ##### YOUR CODE STARTS HERE #######################\n",
        "    ###################################################\n",
        "    # Hints: use the function PolynomialFeatures\n",
        "    poly = PolynomialFeatures(degree)\n",
        "    X_expand = poly.fit_transform(X)\n",
        "    return X_expand\n",
        "    ###################################################\n",
        "    ##### YOUR CODE ENDS HERE #########################\n",
        "    ###################################################"
      ]
    },
    {
      "cell_type": "markdown",
      "metadata": {
        "id": "6jwkPevimQri"
      },
      "source": [
        "### **Task 9**\n",
        "We need to prepare the data.\n",
        "We first expand and standardize the data,\n",
        "and then split the training data to training data and validation data.\n",
        "We use the last 20% of the training data as the validation data.\n",
        "\n",
        "Hints: use `StandardScaler` and `std_scaler` to standardize the data"
      ]
    },
    {
      "cell_type": "code",
      "execution_count": 37,
      "metadata": {
        "colab": {
          "base_uri": "https://localhost:8080/"
        },
        "id": "dQCq4G9YmW7w",
        "outputId": "6b3adafa-4928-4d13-ed1c-fa5542849a96"
      },
      "outputs": [
        {
          "name": "stdout",
          "output_type": "stream",
          "text": [
            "Shape of X_train_n: (3134, 78)\n",
            "Shape of y_train_n: (3134,)\n",
            "Shape of X_train_v: (784, 78)\n",
            "Shape of y_train_v: (784,)\n",
            "Shape of X_test: (980, 78)\n",
            "Shape of y_test: (980,)\n"
          ]
        }
      ],
      "source": [
        "def prepare_data(X, y, degree):\n",
        "    # TODO: the training, test and validation data using the expanded dataset.\n",
        "    # The code below is just for compilation. \n",
        "    # You need to replace it by your own code.\n",
        "    ###################################################\n",
        "    ##### YOUR CODE STARTS HERE #######################\n",
        "    ###################################################\n",
        "    # Hints: follow the steps     \n",
        "    # 1. split the data (X, y) into training data (X_train, y_train) and test data (X_test, y_test)\n",
        "    X_train,y_train,X_test,y_test = split_data(X,y)    \n",
        "    # 2. standardize the training data and do the same transformation to the test data\n",
        "    X_train = standardize_data(X_train)[0]\n",
        "    X_test = standardize_data(X_test)[0]\n",
        "    # 3. expand the basis of the training data and test data\n",
        "    X_train = expand_basis(X_train,2)\n",
        "    X_test = expand_basis(X_test,2)\n",
        "    # 4. split the expanded training data into training data (X_train_n, y_train_n) and validation data (X_train_v, y_train_v)\n",
        "    X_train_n,y_train_n,X_train_v,y_train_v = split_data(X_train,y_train) \n",
        "\n",
        "    return X_train, y_train, X_train_n, y_train_n, X_train_v, y_train_v, X_test, y_test\n",
        "    ###################################################\n",
        "    ##### YOUR CODE ENDS HERE #########################\n",
        "    ###################################################\n",
        "\n",
        "X_train, y_train, X_train_n, y_train_n, X_train_v, y_train_v, X_test, y_test = prepare_data(X, y, 2) # here we expand the dataset with degree 2\n",
        "\n",
        "# check the size of the splitted dataset\n",
        "print(\"Shape of X_train_n:\", X_train_n.shape) # expected output (3134, 78)\n",
        "print(\"Shape of y_train_n:\", y_train_n.shape) # expected output (3134,)\n",
        "print(\"Shape of X_train_v:\", X_train_v.shape) # expected output (784, 78)\n",
        "print(\"Shape of y_train_v:\", y_train_v.shape) # expected output (784,)\n",
        "print(\"Shape of X_test:\", X_test.shape) # expected output (980, 78)\n",
        "print(\"Shape of y_test:\", y_test.shape) # expected output (980,)"
      ]
    },
    {
      "cell_type": "markdown",
      "metadata": {
        "id": "i3BxxtM3nghU"
      },
      "source": [
        "### **Task 10**\n",
        "We have prepared the training data and the validation data. \n",
        "We can now use the validation data to select the optimal hyperparameters for the Ridge and Lasso models. \n",
        "We use the Ridge and Lasso models from scikit-learn: https://scikit-learn.org/stable/modules/generated/sklearn.linear_model.Ridge.html\n",
        "\n",
        "We train Ridge or Lasso models with different lambda values and check their performance on the validation data, and select the lambda values that yield the best performance. "
      ]
    },
    {
      "cell_type": "code",
      "execution_count": 38,
      "metadata": {
        "colab": {
          "base_uri": "https://localhost:8080/",
          "height": 556
        },
        "id": "SvXcAGW1oHq1",
        "outputId": "a6c7634a-53e2-4d4b-c0a2-5e4945b52fc7"
      },
      "outputs": [
        {
          "name": "stdout",
          "output_type": "stream",
          "text": [
            "Ridge lambda: 1\n",
            "Lasso lambda: 0.001\n"
          ]
        },
        {
          "data": {
            "image/png": "[encoded data removed]",
            "text/plain": [
              "<Figure size 432x288 with 1 Axes>"
            ]
          },
          "metadata": {
            "needs_background": "light"
          },
          "output_type": "display_data"
        },
        {
          "data": {
            "image/png": "[encoded data removed]",
            "text/plain": [
              "<Figure size 432x288 with 1 Axes>"
            ]
          },
          "metadata": {
            "needs_background": "light"
          },
          "output_type": "display_data"
        }
      ],
      "source": [
        "from sklearn import linear_model\n",
        "# The function takes the training and validation data as inputs, and \n",
        "# returns the lambda value that results the minimal mse\n",
        "# We use is_ridge to indicate which the model is considered.\n",
        "# is_ridge = True indicates Ridge while is_ridge = False indicates Lasso\n",
        "def choose_hyper_param(X_train_n, y_train_n, X_train_v, y_train_v, is_ridge: bool):\n",
        "    mse_arr = []\n",
        "    lam_arr = []\n",
        "\n",
        "    # Try lambda values from 10^-4 to 10^2. \n",
        "    # Record the mse and the lambda values in mse_arr and lam_arr\n",
        "    # The code below is just for compilation. \n",
        "    # You need to replace it by your own code.\n",
        "    ###################################################\n",
        "    ##### YOUR CODE STARTS HERE #######################\n",
        "    ###################################################\n",
        "    for pow_lam in range(-4, 3):\n",
        "        lam = 10 ** pow_lam\n",
        "        if(is_ridge):\n",
        "            reg = linear_model.Ridge(alpha=lam,normalize=True, tol=1e-14,max_iter=1e9)\n",
        "        else:\n",
        "            reg = linear_model.Lasso(alpha=lam,normalize=True, tol=1e-14,max_iter=1e9)\n",
        "        reg.fit(X_train_n,y_train_n)\n",
        "        y_predicted_v = reg.predict(X_train_v) \n",
        "        mse = ((y_train_v - y_predicted_v)**2).mean(axis=None)\n",
        "        # compute the mse for this lam\n",
        "        mse_arr.append(mse) \n",
        "        lam_arr.append(lam) \n",
        "    ###################################################\n",
        "    ##### YOUR CODE ENDS HERE #########################\n",
        "    ###################################################\n",
        "\n",
        "\n",
        "    # get the index of the lambda value that has the minimal use\n",
        "    lambda_idx_min = np.argmin(np.array(mse_arr))\n",
        "\n",
        "    # plot of the lambda values and their mse\n",
        "    plt.figure()\n",
        "    plt.semilogx(lam_arr, mse_arr)\n",
        "\n",
        "    # return the optimal lambda value\n",
        "    return lam_arr[lambda_idx_min]\n",
        "\n",
        "# call the function to choose the lambda for Ridge and Lasso\n",
        "lam_ridge = choose_hyper_param(X_train_n, y_train_n, X_train_v, y_train_v, True)\n",
        "lam_lasso = choose_hyper_param(X_train_n, y_train_n, X_train_v, y_train_v, False)\n",
        "\n",
        "print(\"Ridge lambda:\", lam_ridge)\n",
        "print(\"Lasso lambda:\", lam_lasso)"
      ]
    },
    {
      "cell_type": "markdown",
      "metadata": {
        "id": "FAuX0uU5k9qD"
      },
      "source": [
        "### **Task 11**:\n",
        "Once we get the optimal lambdas for Ridge and Lasso, we train these models using these lambdas on the full training data, and then report their performance."
      ]
    },
    {
      "cell_type": "code",
      "execution_count": 39,
      "metadata": {
        "colab": {
          "base_uri": "https://localhost:8080/"
        },
        "id": "VmwHESkg77zK",
        "outputId": "c3765fd0-6d6d-4d4c-9db1-c45566e7e53f"
      },
      "outputs": [
        {
          "name": "stdout",
          "output_type": "stream",
          "text": [
            "For Ridge Regression with using degree 2 polynomial expansion and lambda = 1.0000\n",
            "--------------------------------------------------------------------------------\n",
            "\n",
            "MSE (Training) = 0.5687\n",
            "MSE (Testing)  = 1.6399\n",
            "\n",
            "\n",
            "For Lasso with using degree 2 polynomial expansion and lambda = 0.0010\n",
            "---------------------------------------------------------------------\n",
            "\n",
            "MSE (Training) = 0.5980\n",
            "MSE (Testing)  = 0.5867\n"
          ]
        }
      ],
      "source": [
        "# TODO: train the Ridge and Lasso models using the optimal parameters, and\n",
        "#       report their MSE\n",
        "###################################################\n",
        "##### YOUR CODE STARTS HERE #######################\n",
        "###################################################\n",
        "# Hints: train these models on the full training data\n",
        "reg_ridge = linear_model.Ridge(lam_ridge,normalize=True, tol=1e-6,max_iter=1e9)\n",
        "reg_ridge.fit(X_train,y_train)\n",
        "mse_ridge_train = ((y_train - reg_ridge.predict(X_train))**2).mean(axis=None)\n",
        "mse_ridge_test = ((y_test - reg_ridge.predict(X_test))**2).mean(axis=None)\n",
        "\n",
        "reg_lasso = linear_model.Lasso(lam_lasso,normalize=True, tol=1e-6,max_iter=1e9)\n",
        "reg_lasso.fit(X_train,y_train)\n",
        "mse_lasso_train = ((y_train - reg_lasso.predict(X_train))**2).mean(axis=None)\n",
        "mse_lasso_test = ((y_test - reg_lasso.predict(X_test))**2).mean(axis=None)\n",
        "###################################################\n",
        "##### YOUR CODE ENDS HERE #########################\n",
        "###################################################\n",
        "\n",
        "# Report the result\n",
        "print('For Ridge Regression with using degree %d polynomial expansion and lambda = %.4f' % (2, lam_ridge))\n",
        "print('--------------------------------------------------------------------------------\\n')\n",
        "print('MSE (Training) = %.4f' % mse_ridge_train)\n",
        "print('MSE (Testing)  = %.4f' % mse_ridge_test)\n",
        "\n",
        "print('\\n\\nFor Lasso with using degree %d polynomial expansion and lambda = %.4f' % (2, lam_lasso))\n",
        "print('---------------------------------------------------------------------\\n')\n",
        "print('MSE (Training) = %.4f' % mse_lasso_train)\n",
        "print('MSE (Testing)  = %.4f' % mse_lasso_test)"
      ]
    },
    {
      "cell_type": "markdown",
      "metadata": {
        "id": "Os9tKKLd8gMU"
      },
      "source": [
        "## Optional: Try Larger Degrees using K-fold Cross Validation\n",
        "\n"
      ]
    },
    {
      "cell_type": "markdown",
      "metadata": {
        "id": "sfqRAlv1PBXi"
      },
      "source": [
        "### **Task 12**\n",
        "This is an optional task, which worths 5 bonus points.\n",
        "\n",
        "The task is to try basis expansions with higher degrees (up to degree 4) and find the degree that results the best performance. \n",
        "Instead of always using the same validation data, we use k-fold cross-validation to find the optimal hyperparameters. \n",
        "\n",
        "Your task is to report the optimal hyperparameters (the basis expansion degree and the lambdas) and the MSEs of the Ridge and Lasso when using these optimal hyperparameters. \n",
        "\n",
        "Hints: Use `KFold` to do this automatically. "
      ]
    },
    {
      "cell_type": "code",
      "execution_count": 40,
      "metadata": {
        "id": "kpwY7UtQ8l-0"
      },
      "outputs": [
        {
          "name": "stdout",
          "output_type": "stream",
          "text": [
            "---------------degree 2 polynomial expansion---------------\n",
            "Ridge lambda: 0.001\n",
            "Lasso lambda: 0.0001\n",
            "For Ridge Regression with using degree 2 polynomial expansion and lambda = 0.0010\n",
            "--------------------------------------------------------------------------------\n",
            "\n",
            "MSE (Training) = 0.5394\n",
            "MSE (Testing)  = 0.5025\n",
            "\n",
            "\n",
            "For Lasso with using degree 2 polynomial expansion and lambda = 0.0001\n",
            "---------------------------------------------------------------------\n",
            "\n",
            "MSE (Training) = 0.5588\n",
            "MSE (Testing)  = 0.5233\n",
            "---------------degree 3 polynomial expansion---------------\n",
            "Ridge lambda: 0.01\n",
            "Lasso lambda: 0.0001\n",
            "For Ridge Regression with using degree 3 polynomial expansion and lambda = 0.0100\n",
            "--------------------------------------------------------------------------------\n",
            "\n",
            "MSE (Training) = 0.5386\n",
            "MSE (Testing)  = 0.5831\n",
            "\n",
            "\n",
            "For Lasso with using degree 3 polynomial expansion and lambda = 0.0001\n",
            "---------------------------------------------------------------------\n",
            "\n",
            "MSE (Training) = 0.5488\n",
            "MSE (Testing)  = 0.5775\n",
            "---------------degree 4 polynomial expansion---------------\n",
            "Ridge lambda: 0.001\n",
            "Lasso lambda: 0.0001\n",
            "For Ridge Regression with using degree 4 polynomial expansion and lambda = 0.0010\n",
            "--------------------------------------------------------------------------------\n",
            "\n",
            "MSE (Training) = 0.5237\n",
            "MSE (Testing)  = 0.6658\n",
            "\n",
            "\n",
            "For Lasso with using degree 4 polynomial expansion and lambda = 0.0001\n",
            "---------------------------------------------------------------------\n",
            "\n",
            "MSE (Training) = 0.5424\n",
            "MSE (Testing)  = 0.6028\n"
          ]
        }
      ],
      "source": [
        "# KFold\n",
        "from cgi import test\n",
        "from sklearn.model_selection import KFold\n",
        "\n",
        "###################################################\n",
        "##### YOUR CODE STARTS HERE #######################\n",
        "###################################################\n",
        "# step1 \n",
        "#   choose hyperparameter by kFold\n",
        "\n",
        "\n",
        "def choose_hyper_param_KFlod(X_train, y_train, is_ridge: bool, n_splits):\n",
        "    kf = KFold(n_splits)\n",
        "    mse_mean_arr = []\n",
        "    lam_arr = []\n",
        "    for pow_lam in range(-4, 3):\n",
        "        mse_arr = []\n",
        "        lam = 10 ** pow_lam\n",
        "\n",
        "        for train_index, validate_index in kf.split(X_train):\n",
        "            X_train_n, X_train_v = X_train[train_index], X_train[validate_index]\n",
        "            y_train_n, y_train_v = y_train[train_index], y_train[validate_index]\n",
        "            \n",
        "            if(is_ridge):\n",
        "                reg = linear_model.Ridge(alpha=lam , tol=1e-6,max_iter=1e9)\n",
        "            else:\n",
        "                reg = linear_model.Lasso(alpha=lam , tol=1e-6,max_iter=1e9)\n",
        "            reg.fit(X_train_n,y_train_n)\n",
        "            y_predicted_v = reg.predict(X_train_v) \n",
        "            mse = ((y_train_v - y_predicted_v)**2).mean(axis=None)\n",
        "            # compute the mse for this lam\n",
        "            mse_arr.append(mse)\n",
        "\n",
        "        mse_mean = np.mean(mse_arr)\n",
        "        mse_mean_arr.append(mse_mean)\n",
        "        lam_arr.append(lam)\n",
        "\n",
        "    # get the index of the lambda value that has the minimal use\n",
        "    lambda_idx_min = np.argmin(np.array(mse_mean_arr))\n",
        "    # return the optimal lambda value\n",
        "    return lam_arr[lambda_idx_min]\n",
        "\n",
        "mse_ridge_train_arr = []\n",
        "mse_ridge_test_arr = []\n",
        "mse_lasso_train_arr = []\n",
        "mse_lasso_test_arr = []\n",
        "\n",
        "for degree in range(2,5): # degree 2, 3 ,4\n",
        "    print(\"---------------degree %d polynomial expansion---------------\" % (degree))\n",
        "    X_train,y_train,_,_,_,_,X_test,y_test = prepare_data(X, y, degree)\n",
        "    # apply 10-fold algorithm to choose hyper param for Ridge and Lasso\n",
        "    lam_ridge = choose_hyper_param_KFlod(X_train, y_train, True, 10)\n",
        "    lam_lasso = choose_hyper_param_KFlod(X_train, y_train, False, 10)\n",
        "\n",
        "    print(\"Ridge lambda:\", lam_ridge)\n",
        "    print(\"Lasso lambda:\", lam_lasso)    \n",
        "    # step2\n",
        "    #  Model training and the MSEs results\n",
        "    reg_ridge = linear_model.Ridge(lam_ridge , tol=1e-6,max_iter=1e9)\n",
        "    reg_ridge.fit(X_train,y_train)\n",
        "    mse_ridge_train = ((y_train - reg_ridge.predict(X_train))**2).mean(axis=None)\n",
        "    mse_ridge_test = ((y_test - reg_ridge.predict(X_test))**2).mean(axis=None)\n",
        "    mse_ridge_train_arr.append(mse_ridge_train)\n",
        "    mse_ridge_test_arr.append(mse_ridge_test)\n",
        "\n",
        "    reg_lasso = linear_model.Lasso(lam_lasso , tol=1e-6,max_iter=1e9)\n",
        "    reg_lasso.fit(X_train,y_train)\n",
        "    mse_lasso_train = ((y_train - reg_lasso.predict(X_train))**2).mean(axis=None)\n",
        "    mse_lasso_test = ((y_test - reg_lasso.predict(X_test))**2).mean(axis=None)\n",
        "    mse_lasso_train_arr.append(mse_lasso_train)\n",
        "    mse_lasso_test_arr.append(mse_lasso_test)\n",
        "\n",
        "    # Report the result\n",
        "    print('For Ridge Regression with using degree %d polynomial expansion and lambda = %.4f' % (degree, lam_ridge))\n",
        "    print('--------------------------------------------------------------------------------\\n')\n",
        "    print('MSE (Training) = %.4f' % mse_ridge_train)\n",
        "    print('MSE (Testing)  = %.4f' % mse_ridge_test)\n",
        "\n",
        "    print('\\n\\nFor Lasso with using degree %d polynomial expansion and lambda = %.4f' % (degree, lam_lasso))\n",
        "    print('---------------------------------------------------------------------\\n')\n",
        "    print('MSE (Training) = %.4f' % mse_lasso_train)\n",
        "    print('MSE (Testing)  = %.4f' % mse_lasso_test)\n",
        "\n",
        "\n",
        "###################################################\n",
        "##### YOUR CODE ENDS HERE #########################\n",
        "###################################################"
      ]
    },
    {
      "cell_type": "code",
      "execution_count": 41,
      "metadata": {},
      "outputs": [
        {
          "data": {
            "image/png": "[encoded data removed]",
            "text/plain": [
              "<Figure size 432x288 with 1 Axes>"
            ]
          },
          "metadata": {
            "needs_background": "light"
          },
          "output_type": "display_data"
        }
      ],
      "source": [
        "# The below code generates the learning curves plot\n",
        "plt.plot(np.arange(2,5), mse_ridge_train_arr, 'ro--', label=\"Ridge Training Error\",markersize=4)\n",
        "plt.plot(np.arange(2,5), mse_ridge_test_arr, 'ro-', label=\"Ridge Test Error\",markersize=4)\n",
        "plt.plot(np.arange(2,5), mse_lasso_train_arr, 'bo--', label=\"Lasso Test Error\",markersize=4)\n",
        "plt.plot(np.arange(2,5), mse_lasso_test_arr, 'bo-', label=\"Lasso Test Error\",markersize=4)\n",
        "\n",
        "plt.legend(loc=\"upper right\")\n",
        "plt.xlabel('Polynomial Expansion Degree')\n",
        "plt.ylabel('Mean Squared Error')\n",
        "plt.show()"
      ]
    }
  ],
  "metadata": {
    "colab": {
      "collapsed_sections": [
        "b1-ZQWqTVPno",
        "q2yKNR49Wkn8",
        "Jt9vcanMK09s",
        "GxjlElni2FcH",
        "x531Q_SxXV14",
        "geiyM1Nea0az",
        "WSEwFGp_bqAI",
        "vT4_Sl42bxmD",
        "NTJw_BrzhRwi",
        "FAuX0uU5k9qD",
        "sfqRAlv1PBXi"
      ],
      "provenance": []
    },
    "kernelspec": {
      "display_name": "Python 3.8.5 ('base')",
      "language": "python",
      "name": "python3"
    },
    "language_info": {
      "codemirror_mode": {
        "name": "ipython",
        "version": 3
      },
      "file_extension": ".py",
      "mimetype": "text/x-python",
      "name": "python",
      "nbconvert_exporter": "python",
      "pygments_lexer": "ipython3",
      "version": "3.8.5"
    },
    "vscode": {
      "interpreter": {
        "hash": "ad2bdc8ecc057115af97d19610ffacc2b4e99fae6737bb82f5d7fb13d2f2c186"
      }
    }
  },
  "nbformat": 4,
  "nbformat_minor": 0
}
